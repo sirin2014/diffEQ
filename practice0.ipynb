{
 "cells": [
  {
   "cell_type": "markdown",
   "id": "255ea3f8",
   "metadata": {},
   "source": [
    "## Getting started"
   ]
  },
  {
   "cell_type": "markdown",
   "id": "25a95337",
   "metadata": {},
   "source": [
    "Our overview of Python  is composed of a series of Jupyter notebooks. Python is a programming language and Jupyter provides an interactive interface to Python that runs in your web browser.\n",
    "Your first step will be to download and install [Anaconda](https://www.anaconda.com/). It is free, and works on Windows, Mac OS, and Linux. We well be using Python 3 for this studies.\n",
    "After ***Anaconda*** is installed on your computer, run the [Anaconda Navigator](https://docs.continuum.io/anaconda/navigator/). Click the Launch button under Jupyter to launch a Jupyter notebook. This should open a tab in your web browser (and a little background window too). It's best to avoid Internet Explorer, but the other popular web browsers should be fine, e.g. Chrome, Safari, Firefox.\n",
    "\n",
    "Once you have a tab open on your web browser for Jupyter, you can close down the ***Anaconda navigator***  if you want. In your Jupyter window, you should see a file directory. Click on directories to navigate to a convenient location, where you'll want to save your files. You can create a new folder, by clicking on New... Folder.\n",
    "\n",
    "Use this folder for the whole tutorial. If you want to jump in and create your own Python notebook, you can go into your directory, then click on New... Python 3. This should open a new tab in your browser and you should see a prompt that looks like In [ ]:\n",
    "\n",
    "To the right of the prompt, type 2 + 2 and then shift-Enter (hold down the shift key while you press the enter/return key). You should see a result like Out[1]: 4 and a new \"cell\" should appear below, ready for more input. If all this works, congratulations! Python and Jupyter are installed and you should be ready to go to the Notebooks below. You can rename your Python notebook by clicking on the \"Untitled\" name at the top and changing it. Then you can go to \"File... Save and checkpoint\" to save your notebook for later.\n",
    "\n"
   ]
  },
  {
   "cell_type": "code",
   "execution_count": null,
   "id": "cf9ea54e",
   "metadata": {},
   "outputs": [],
   "source": []
  }
 ],
 "metadata": {
  "kernelspec": {
   "display_name": "Python 3 (ipykernel)",
   "language": "python",
   "name": "python3"
  },
  "language_info": {
   "codemirror_mode": {
    "name": "ipython",
    "version": 3
   },
   "file_extension": ".py",
   "mimetype": "text/x-python",
   "name": "python",
   "nbconvert_exporter": "python",
   "pygments_lexer": "ipython3",
   "version": "3.9.7"
  }
 },
 "nbformat": 4,
 "nbformat_minor": 5
}
